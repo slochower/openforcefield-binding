{
 "cells": [
  {
   "cell_type": "code",
   "execution_count": 1,
   "metadata": {
    "ExecuteTime": {
     "end_time": "2017-07-21T21:07:26.841516Z",
     "start_time": "2017-07-21T21:07:26.689013Z"
    },
    "collapsed": true
   },
   "outputs": [],
   "source": [
    "from simtk import openmm\n",
    "from simtk import unit\n",
    "import numpy as np"
   ]
  },
  {
   "cell_type": "code",
   "execution_count": 2,
   "metadata": {
    "ExecuteTime": {
     "end_time": "2017-07-21T21:07:36.773698Z",
     "start_time": "2017-07-21T21:07:36.636272Z"
    },
    "collapsed": true
   },
   "outputs": [],
   "source": [
    "from openeye import oechem"
   ]
  },
  {
   "cell_type": "code",
   "execution_count": 3,
   "metadata": {
    "ExecuteTime": {
     "end_time": "2017-07-21T21:07:56.664349Z",
     "start_time": "2017-07-21T21:07:56.143936Z"
    },
    "collapsed": true
   },
   "outputs": [],
   "source": [
    "from openforcefield.typing.engines.smirnoff.forcefield import ForceField, generateTopologyFromOEMol\n",
    "from openforcefield.utils import get_data_filename"
   ]
  },
  {
   "cell_type": "markdown",
   "metadata": {},
   "source": [
    "## Load in β-CD bound to heptylamine (from Katy)"
   ]
  },
  {
   "cell_type": "code",
   "execution_count": 4,
   "metadata": {
    "ExecuteTime": {
     "end_time": "2017-07-21T21:13:52.820462Z",
     "start_time": "2017-07-21T21:13:52.797794Z"
    },
    "collapsed": true
   },
   "outputs": [],
   "source": [
    "ifs = oechem.oemolistream('b-CD_heptylamine.mol2')\n",
    "mol = oechem.OEMol()"
   ]
  },
  {
   "cell_type": "code",
   "execution_count": 6,
   "metadata": {
    "ExecuteTime": {
     "end_time": "2017-07-21T21:14:27.818668Z",
     "start_time": "2017-07-21T21:14:27.804400Z"
    }
   },
   "outputs": [
    {
     "data": {
      "text/plain": [
       "True"
      ]
     },
     "execution_count": 6,
     "metadata": {},
     "output_type": "execute_result"
    }
   ],
   "source": [
    "flavor = oechem.OEIFlavor_Generic_Default | oechem.OEIFlavor_MOL2_Default | oechem.OEIFlavor_MOL2_Forcefield\n",
    "ifs.SetFlavor( oechem.OEFormat_MOL2, flavor)\n",
    "oechem.OEReadMolecule(ifs, mol)"
   ]
  },
  {
   "cell_type": "code",
   "execution_count": 7,
   "metadata": {
    "ExecuteTime": {
     "end_time": "2017-07-21T21:14:41.538709Z",
     "start_time": "2017-07-21T21:14:41.532696Z"
    },
    "collapsed": true
   },
   "outputs": [],
   "source": [
    "oechem.OETriposAtomNames(mol)"
   ]
  },
  {
   "cell_type": "code",
   "execution_count": 14,
   "metadata": {
    "ExecuteTime": {
     "end_time": "2017-07-21T21:21:24.723547Z",
     "start_time": "2017-07-21T21:21:24.716375Z"
    },
    "collapsed": true
   },
   "outputs": [],
   "source": [
    "coordinates = mol.GetCoords()\n",
    "natoms = len(coordinates)"
   ]
  },
  {
   "cell_type": "markdown",
   "metadata": {},
   "source": [
    "## Load in SMIRNOFF99Frosst force field"
   ]
  },
  {
   "cell_type": "code",
   "execution_count": 11,
   "metadata": {
    "ExecuteTime": {
     "end_time": "2017-07-21T21:21:00.250895Z",
     "start_time": "2017-07-21T21:21:00.014050Z"
    },
    "collapsed": true
   },
   "outputs": [],
   "source": [
    "ffxml = get_data_filename('forcefield/smirnoff99Frosst.ffxml')\n",
    "ff = ForceField(ffxml)"
   ]
  },
  {
   "cell_type": "markdown",
   "metadata": {
    "ExecuteTime": {
     "end_time": "2017-07-21T21:21:08.983306Z",
     "start_time": "2017-07-21T21:21:08.974126Z"
    }
   },
   "source": [
    "## Generate toplogy for β-CD bound to heptylamine"
   ]
  },
  {
   "cell_type": "code",
   "execution_count": 16,
   "metadata": {
    "ExecuteTime": {
     "end_time": "2017-07-21T21:22:00.226580Z",
     "start_time": "2017-07-21T21:22:00.188450Z"
    },
    "collapsed": true
   },
   "outputs": [],
   "source": [
    "topology = generateTopologyFromOEMol(mol)"
   ]
  },
  {
   "cell_type": "code",
   "execution_count": 18,
   "metadata": {
    "ExecuteTime": {
     "end_time": "2017-07-21T21:22:45.996727Z",
     "start_time": "2017-07-21T21:22:45.935227Z"
    }
   },
   "outputs": [
    {
     "name": "stdout",
     "output_type": "stream",
     "text": [
      "Charges specified in provided molecules will be used.\n"
     ]
    },
    {
     "ename": "Exception",
     "evalue": "No provided molecule matches topology molecule:\nAtom        0    C1     0 Displayed atoms\nAtom        1    C2     0 Displayed atoms\nAtom        2    O1     0 Displayed atoms\nAtom        3    C3     0 Displayed atoms\nAtom        4    O2     0 Displayed atoms\nAtom        5    C4     0 Displayed atoms\nAtom        6    O3     0 Displayed atoms\nAtom        7    C5     0 Displayed atoms\nAtom        8    O4     0 Displayed atoms\nAtom        9    C6     0 Displayed atoms\nAtom       10    O5     0 Displayed atoms\nAtom       11    C7     0 Displayed atoms\nAtom       12    C8     0 Displayed atoms\nAtom       13    O6     0 Displayed atoms\nAtom       14    C9     0 Displayed atoms\nAtom       15    O7     0 Displayed atoms\nAtom       16   C10     0 Displayed atoms\nAtom       17    O8     0 Displayed atoms\nAtom       18   C11     0 Displayed atoms\nAtom       19    O9     0 Displayed atoms\nAtom       20   C12     0 Displayed atoms\nAtom       21   O10     0 Displayed atoms\nAtom       22   C13     0 Displayed atoms\nAtom       23   C14     0 Displayed atoms\nAtom       24   O11     0 Displayed atoms\nAtom       25   C15     0 Displayed atoms\nAtom       26   O12     0 Displayed atoms\nAtom       27   C16     0 Displayed atoms\nAtom       28   O13     0 Displayed atoms\nAtom       29   C17     0 Displayed atoms\nAtom       30   O14     0 Displayed atoms\nAtom       31   C18     0 Displayed atoms\nAtom       32   O15     0 Displayed atoms\nAtom       33   C19     0 Displayed atoms\nAtom       34   C20     0 Displayed atoms\nAtom       35   O16     0 Displayed atoms\nAtom       36   C21     0 Displayed atoms\nAtom       37   O17     0 Displayed atoms\nAtom       38   C22     0 Displayed atoms\nAtom       39   O18     0 Displayed atoms\nAtom       40   C23     0 Displayed atoms\nAtom       41   O19     0 Displayed atoms\nAtom       42   C24     0 Displayed atoms\nAtom       43   O20     0 Displayed atoms\nAtom       44   C25     0 Displayed atoms\nAtom       45   C26     0 Displayed atoms\nAtom       46   O21     0 Displayed atoms\nAtom       47   C27     0 Displayed atoms\nAtom       48   O22     0 Displayed atoms\nAtom       49   C28     0 Displayed atoms\nAtom       50   O23     0 Displayed atoms\nAtom       51   C29     0 Displayed atoms\nAtom       52   O24     0 Displayed atoms\nAtom       53   C30     0 Displayed atoms\nAtom       54   O25     0 Displayed atoms\nAtom       55   C31     0 Displayed atoms\nAtom       56   C32     0 Displayed atoms\nAtom       57   O26     0 Displayed atoms\nAtom       58   C33     0 Displayed atoms\nAtom       59   O27     0 Displayed atoms\nAtom       60   C34     0 Displayed atoms\nAtom       61   O28     0 Displayed atoms\nAtom       62   C35     0 Displayed atoms\nAtom       63   O29     0 Displayed atoms\nAtom       64   C36     0 Displayed atoms\nAtom       65   O30     0 Displayed atoms\nAtom       66   C37     0 Displayed atoms\nAtom       67   C38     0 Displayed atoms\nAtom       68   O31     0 Displayed atoms\nAtom       69   C39     0 Displayed atoms\nAtom       70   O32     0 Displayed atoms\nAtom       71   C40     0 Displayed atoms\nAtom       72   O33     0 Displayed atoms\nAtom       73   C41     0 Displayed atoms\nAtom       74   O34     0 Displayed atoms\nAtom       75   C42     0 Displayed atoms\nAtom       76   O35     0 Displayed atoms\nAtom       77    H1     0 Displayed atoms\nAtom       78    H2     0 Displayed atoms\nAtom       79    H3     0 Displayed atoms\nAtom       80    H4     0 Displayed atoms\nAtom       81    H5     0 Displayed atoms\nAtom       82    H6     0 Displayed atoms\nAtom       83    H7     0 Displayed atoms\nAtom       84    H8     0 Displayed atoms\nAtom       85    H9     0 Displayed atoms\nAtom       86   H10     0 Displayed atoms\nAtom       87   H11     0 Displayed atoms\nAtom       88   H12     0 Displayed atoms\nAtom       89   H13     0 Displayed atoms\nAtom       90   H14     0 Displayed atoms\nAtom       91   H15     0 Displayed atoms\nAtom       92   H16     0 Displayed atoms\nAtom       93   H17     0 Displayed atoms\nAtom       94   H18     0 Displayed atoms\nAtom       95   H19     0 Displayed atoms\nAtom       96   H20     0 Displayed atoms\nAtom       97   H21     0 Displayed atoms\nAtom       98   H22     0 Displayed atoms\nAtom       99   H23     0 Displayed atoms\nAtom      100   H24     0 Displayed atoms\nAtom      101   H25     0 Displayed atoms\nAtom      102   H26     0 Displayed atoms\nAtom      103   H27     0 Displayed atoms\nAtom      104   H28     0 Displayed atoms\nAtom      105   H29     0 Displayed atoms\nAtom      106   H30     0 Displayed atoms\nAtom      107   H31     0 Displayed atoms\nAtom      108   H32     0 Displayed atoms\nAtom      109   H33     0 Displayed atoms\nAtom      110   H34     0 Displayed atoms\nAtom      111   H35     0 Displayed atoms\nAtom      112   H36     0 Displayed atoms\nAtom      113   H37     0 Displayed atoms\nAtom      114   H38     0 Displayed atoms\nAtom      115   H39     0 Displayed atoms\nAtom      116   H40     0 Displayed atoms\nAtom      117   H41     0 Displayed atoms\nAtom      118   H42     0 Displayed atoms\nAtom      119   H43     0 Displayed atoms\nAtom      120   H44     0 Displayed atoms\nAtom      121   H45     0 Displayed atoms\nAtom      122   H46     0 Displayed atoms\nAtom      123   H47     0 Displayed atoms\nAtom      124   H48     0 Displayed atoms\nAtom      125   H49     0 Displayed atoms\nAtom      126   H50     0 Displayed atoms\nAtom      127   H51     0 Displayed atoms\nAtom      128   H52     0 Displayed atoms\nAtom      129   H53     0 Displayed atoms\nAtom      130   H54     0 Displayed atoms\nAtom      131   H55     0 Displayed atoms\nAtom      132   H56     0 Displayed atoms\nAtom      133   H57     0 Displayed atoms\nAtom      134   H58     0 Displayed atoms\nAtom      135   H59     0 Displayed atoms\nAtom      136   H60     0 Displayed atoms\nAtom      137   H61     0 Displayed atoms\nAtom      138   H62     0 Displayed atoms\nAtom      139   H63     0 Displayed atoms\nAtom      140   H64     0 Displayed atoms\nAtom      141   H65     0 Displayed atoms\nAtom      142   H66     0 Displayed atoms\nAtom      143   H67     0 Displayed atoms\nAtom      144   H68     0 Displayed atoms\nAtom      145   H69     0 Displayed atoms\nAtom      146   H70     0 Displayed atoms\n",
     "output_type": "error",
     "traceback": [
      "\u001b[0;31m---------------------------------------------------------------------------\u001b[0m",
      "\u001b[0;31mException\u001b[0m                                 Traceback (most recent call last)",
      "\u001b[0;32m<ipython-input-18-6ad1c63ffd6a>\u001b[0m in \u001b[0;36m<module>\u001b[0;34m()\u001b[0m\n\u001b[0;32m----> 1\u001b[0;31m \u001b[0msystem\u001b[0m \u001b[0;34m=\u001b[0m \u001b[0mff\u001b[0m\u001b[0;34m.\u001b[0m\u001b[0mcreateSystem\u001b[0m\u001b[0;34m(\u001b[0m\u001b[0mtopology\u001b[0m\u001b[0;34m=\u001b[0m\u001b[0mtopology\u001b[0m\u001b[0;34m,\u001b[0m \u001b[0mmolecules\u001b[0m\u001b[0;34m=\u001b[0m\u001b[0;34m[\u001b[0m\u001b[0mmol\u001b[0m\u001b[0;34m]\u001b[0m\u001b[0;34m,\u001b[0m \u001b[0mverbose\u001b[0m\u001b[0;34m=\u001b[0m\u001b[0;32mTrue\u001b[0m\u001b[0;34m)\u001b[0m\u001b[0;34m\u001b[0m\u001b[0m\n\u001b[0m",
      "\u001b[0;32m~/data/applications/anaconda3/envs/openforcefield/lib/python3.6/site-packages/openforcefield/typing/engines/smirnoff/forcefield.py\u001b[0m in \u001b[0;36mcreateSystem\u001b[0;34m(self, topology, molecules, nonbondedMethod, nonbondedCutoff, constraints, rigidWater, removeCMMotion, hydrogenMass, residueTemplates, chargeMethod, verbose, **kwargs)\u001b[0m\n\u001b[1;32m    969\u001b[0m \u001b[0;34m\u001b[0m\u001b[0m\n\u001b[1;32m    970\u001b[0m         \u001b[0;31m# Work with a modified form of the topology that provides additional accessors.\u001b[0m\u001b[0;34m\u001b[0m\u001b[0;34m\u001b[0m\u001b[0m\n\u001b[0;32m--> 971\u001b[0;31m         \u001b[0mtopology\u001b[0m \u001b[0;34m=\u001b[0m \u001b[0m_Topology\u001b[0m\u001b[0;34m(\u001b[0m\u001b[0mtopology\u001b[0m\u001b[0;34m,\u001b[0m \u001b[0mmolecules\u001b[0m\u001b[0;34m)\u001b[0m\u001b[0;34m\u001b[0m\u001b[0m\n\u001b[0m\u001b[1;32m    972\u001b[0m \u001b[0;34m\u001b[0m\u001b[0m\n\u001b[1;32m    973\u001b[0m         \u001b[0;31m# If the charge method was not an OpenEye AM1 method and we need Wiberg bond orders, obtain Wiberg bond orders\u001b[0m\u001b[0;34m\u001b[0m\u001b[0;34m\u001b[0m\u001b[0m\n",
      "\u001b[0;32m~/data/applications/anaconda3/envs/openforcefield/lib/python3.6/site-packages/openforcefield/typing/engines/smirnoff/forcefield.py\u001b[0m in \u001b[0;36m__init__\u001b[0;34m(self, topology, reference_molecules)\u001b[0m\n\u001b[1;32m    195\u001b[0m \u001b[0;34m\u001b[0m\u001b[0m\n\u001b[1;32m    196\u001b[0m         \u001b[0;31m# Identify all molecules and atom mappings.\u001b[0m\u001b[0;34m\u001b[0m\u001b[0;34m\u001b[0m\u001b[0m\n\u001b[0;32m--> 197\u001b[0;31m         \u001b[0mself\u001b[0m\u001b[0;34m.\u001b[0m\u001b[0m_identifyMolecules\u001b[0m\u001b[0;34m(\u001b[0m\u001b[0;34m)\u001b[0m\u001b[0;34m\u001b[0m\u001b[0m\n\u001b[0m\u001b[1;32m    198\u001b[0m \u001b[0;34m\u001b[0m\u001b[0m\n\u001b[1;32m    199\u001b[0m         \u001b[0;31m# Get/initialize bond orders\u001b[0m\u001b[0;34m\u001b[0m\u001b[0;34m\u001b[0m\u001b[0m\n",
      "\u001b[0;32m~/data/applications/anaconda3/envs/openforcefield/lib/python3.6/site-packages/openforcefield/typing/engines/smirnoff/forcefield.py\u001b[0m in \u001b[0;36m_identifyMolecules\u001b[0;34m(self)\u001b[0m\n\u001b[1;32m    373\u001b[0m                 \u001b[0;32mfor\u001b[0m \u001b[0mindex\u001b[0m \u001b[0;32min\u001b[0m \u001b[0msorted\u001b[0m\u001b[0;34m(\u001b[0m\u001b[0mlist\u001b[0m\u001b[0;34m(\u001b[0m\u001b[0mmolecule_graph\u001b[0m\u001b[0;34m)\u001b[0m\u001b[0;34m)\u001b[0m\u001b[0;34m:\u001b[0m\u001b[0;34m\u001b[0m\u001b[0m\n\u001b[1;32m    374\u001b[0m                     \u001b[0mmsg\u001b[0m \u001b[0;34m+=\u001b[0m \u001b[0;34m'Atom %8d %5s %5d %3s\\n'\u001b[0m \u001b[0;34m%\u001b[0m \u001b[0;34m(\u001b[0m\u001b[0matoms\u001b[0m\u001b[0;34m[\u001b[0m\u001b[0mindex\u001b[0m\u001b[0;34m]\u001b[0m\u001b[0;34m.\u001b[0m\u001b[0mindex\u001b[0m\u001b[0;34m,\u001b[0m \u001b[0matoms\u001b[0m\u001b[0;34m[\u001b[0m\u001b[0mindex\u001b[0m\u001b[0;34m]\u001b[0m\u001b[0;34m.\u001b[0m\u001b[0mname\u001b[0m\u001b[0;34m,\u001b[0m \u001b[0matoms\u001b[0m\u001b[0;34m[\u001b[0m\u001b[0mindex\u001b[0m\u001b[0;34m]\u001b[0m\u001b[0;34m.\u001b[0m\u001b[0mresidue\u001b[0m\u001b[0;34m.\u001b[0m\u001b[0mindex\u001b[0m\u001b[0;34m,\u001b[0m \u001b[0matoms\u001b[0m\u001b[0;34m[\u001b[0m\u001b[0mindex\u001b[0m\u001b[0;34m]\u001b[0m\u001b[0;34m.\u001b[0m\u001b[0mresidue\u001b[0m\u001b[0;34m.\u001b[0m\u001b[0mname\u001b[0m\u001b[0;34m)\u001b[0m\u001b[0;34m\u001b[0m\u001b[0m\n\u001b[0;32m--> 375\u001b[0;31m                 \u001b[0;32mraise\u001b[0m \u001b[0mException\u001b[0m\u001b[0;34m(\u001b[0m\u001b[0mmsg\u001b[0m\u001b[0;34m)\u001b[0m\u001b[0;34m\u001b[0m\u001b[0m\n\u001b[0m\u001b[1;32m    376\u001b[0m \u001b[0;34m\u001b[0m\u001b[0m\n\u001b[1;32m    377\u001b[0m     \u001b[0;32mdef\u001b[0m \u001b[0m_updateBondOrders\u001b[0m\u001b[0;34m(\u001b[0m\u001b[0mself\u001b[0m\u001b[0;34m,\u001b[0m \u001b[0mWiberg\u001b[0m \u001b[0;34m=\u001b[0m \u001b[0;32mFalse\u001b[0m\u001b[0;34m)\u001b[0m\u001b[0;34m:\u001b[0m\u001b[0;34m\u001b[0m\u001b[0m\n",
      "\u001b[0;31mException\u001b[0m: No provided molecule matches topology molecule:\nAtom        0    C1     0 Displayed atoms\nAtom        1    C2     0 Displayed atoms\nAtom        2    O1     0 Displayed atoms\nAtom        3    C3     0 Displayed atoms\nAtom        4    O2     0 Displayed atoms\nAtom        5    C4     0 Displayed atoms\nAtom        6    O3     0 Displayed atoms\nAtom        7    C5     0 Displayed atoms\nAtom        8    O4     0 Displayed atoms\nAtom        9    C6     0 Displayed atoms\nAtom       10    O5     0 Displayed atoms\nAtom       11    C7     0 Displayed atoms\nAtom       12    C8     0 Displayed atoms\nAtom       13    O6     0 Displayed atoms\nAtom       14    C9     0 Displayed atoms\nAtom       15    O7     0 Displayed atoms\nAtom       16   C10     0 Displayed atoms\nAtom       17    O8     0 Displayed atoms\nAtom       18   C11     0 Displayed atoms\nAtom       19    O9     0 Displayed atoms\nAtom       20   C12     0 Displayed atoms\nAtom       21   O10     0 Displayed atoms\nAtom       22   C13     0 Displayed atoms\nAtom       23   C14     0 Displayed atoms\nAtom       24   O11     0 Displayed atoms\nAtom       25   C15     0 Displayed atoms\nAtom       26   O12     0 Displayed atoms\nAtom       27   C16     0 Displayed atoms\nAtom       28   O13     0 Displayed atoms\nAtom       29   C17     0 Displayed atoms\nAtom       30   O14     0 Displayed atoms\nAtom       31   C18     0 Displayed atoms\nAtom       32   O15     0 Displayed atoms\nAtom       33   C19     0 Displayed atoms\nAtom       34   C20     0 Displayed atoms\nAtom       35   O16     0 Displayed atoms\nAtom       36   C21     0 Displayed atoms\nAtom       37   O17     0 Displayed atoms\nAtom       38   C22     0 Displayed atoms\nAtom       39   O18     0 Displayed atoms\nAtom       40   C23     0 Displayed atoms\nAtom       41   O19     0 Displayed atoms\nAtom       42   C24     0 Displayed atoms\nAtom       43   O20     0 Displayed atoms\nAtom       44   C25     0 Displayed atoms\nAtom       45   C26     0 Displayed atoms\nAtom       46   O21     0 Displayed atoms\nAtom       47   C27     0 Displayed atoms\nAtom       48   O22     0 Displayed atoms\nAtom       49   C28     0 Displayed atoms\nAtom       50   O23     0 Displayed atoms\nAtom       51   C29     0 Displayed atoms\nAtom       52   O24     0 Displayed atoms\nAtom       53   C30     0 Displayed atoms\nAtom       54   O25     0 Displayed atoms\nAtom       55   C31     0 Displayed atoms\nAtom       56   C32     0 Displayed atoms\nAtom       57   O26     0 Displayed atoms\nAtom       58   C33     0 Displayed atoms\nAtom       59   O27     0 Displayed atoms\nAtom       60   C34     0 Displayed atoms\nAtom       61   O28     0 Displayed atoms\nAtom       62   C35     0 Displayed atoms\nAtom       63   O29     0 Displayed atoms\nAtom       64   C36     0 Displayed atoms\nAtom       65   O30     0 Displayed atoms\nAtom       66   C37     0 Displayed atoms\nAtom       67   C38     0 Displayed atoms\nAtom       68   O31     0 Displayed atoms\nAtom       69   C39     0 Displayed atoms\nAtom       70   O32     0 Displayed atoms\nAtom       71   C40     0 Displayed atoms\nAtom       72   O33     0 Displayed atoms\nAtom       73   C41     0 Displayed atoms\nAtom       74   O34     0 Displayed atoms\nAtom       75   C42     0 Displayed atoms\nAtom       76   O35     0 Displayed atoms\nAtom       77    H1     0 Displayed atoms\nAtom       78    H2     0 Displayed atoms\nAtom       79    H3     0 Displayed atoms\nAtom       80    H4     0 Displayed atoms\nAtom       81    H5     0 Displayed atoms\nAtom       82    H6     0 Displayed atoms\nAtom       83    H7     0 Displayed atoms\nAtom       84    H8     0 Displayed atoms\nAtom       85    H9     0 Displayed atoms\nAtom       86   H10     0 Displayed atoms\nAtom       87   H11     0 Displayed atoms\nAtom       88   H12     0 Displayed atoms\nAtom       89   H13     0 Displayed atoms\nAtom       90   H14     0 Displayed atoms\nAtom       91   H15     0 Displayed atoms\nAtom       92   H16     0 Displayed atoms\nAtom       93   H17     0 Displayed atoms\nAtom       94   H18     0 Displayed atoms\nAtom       95   H19     0 Displayed atoms\nAtom       96   H20     0 Displayed atoms\nAtom       97   H21     0 Displayed atoms\nAtom       98   H22     0 Displayed atoms\nAtom       99   H23     0 Displayed atoms\nAtom      100   H24     0 Displayed atoms\nAtom      101   H25     0 Displayed atoms\nAtom      102   H26     0 Displayed atoms\nAtom      103   H27     0 Displayed atoms\nAtom      104   H28     0 Displayed atoms\nAtom      105   H29     0 Displayed atoms\nAtom      106   H30     0 Displayed atoms\nAtom      107   H31     0 Displayed atoms\nAtom      108   H32     0 Displayed atoms\nAtom      109   H33     0 Displayed atoms\nAtom      110   H34     0 Displayed atoms\nAtom      111   H35     0 Displayed atoms\nAtom      112   H36     0 Displayed atoms\nAtom      113   H37     0 Displayed atoms\nAtom      114   H38     0 Displayed atoms\nAtom      115   H39     0 Displayed atoms\nAtom      116   H40     0 Displayed atoms\nAtom      117   H41     0 Displayed atoms\nAtom      118   H42     0 Displayed atoms\nAtom      119   H43     0 Displayed atoms\nAtom      120   H44     0 Displayed atoms\nAtom      121   H45     0 Displayed atoms\nAtom      122   H46     0 Displayed atoms\nAtom      123   H47     0 Displayed atoms\nAtom      124   H48     0 Displayed atoms\nAtom      125   H49     0 Displayed atoms\nAtom      126   H50     0 Displayed atoms\nAtom      127   H51     0 Displayed atoms\nAtom      128   H52     0 Displayed atoms\nAtom      129   H53     0 Displayed atoms\nAtom      130   H54     0 Displayed atoms\nAtom      131   H55     0 Displayed atoms\nAtom      132   H56     0 Displayed atoms\nAtom      133   H57     0 Displayed atoms\nAtom      134   H58     0 Displayed atoms\nAtom      135   H59     0 Displayed atoms\nAtom      136   H60     0 Displayed atoms\nAtom      137   H61     0 Displayed atoms\nAtom      138   H62     0 Displayed atoms\nAtom      139   H63     0 Displayed atoms\nAtom      140   H64     0 Displayed atoms\nAtom      141   H65     0 Displayed atoms\nAtom      142   H66     0 Displayed atoms\nAtom      143   H67     0 Displayed atoms\nAtom      144   H68     0 Displayed atoms\nAtom      145   H69     0 Displayed atoms\nAtom      146   H70     0 Displayed atoms\n"
     ]
    }
   ],
   "source": [
    "system = ff.createSystem(topology=topology, molecules=[mol], verbose=True)"
   ]
  },
  {
   "cell_type": "code",
   "execution_count": null,
   "metadata": {
    "collapsed": true
   },
   "outputs": [],
   "source": []
  }
 ],
 "metadata": {
  "kernelspec": {
   "display_name": "Python (OFF)",
   "language": "python",
   "name": "openforcefield"
  },
  "language_info": {
   "codemirror_mode": {
    "name": "ipython",
    "version": 3
   },
   "file_extension": ".py",
   "mimetype": "text/x-python",
   "name": "python",
   "nbconvert_exporter": "python",
   "pygments_lexer": "ipython3",
   "version": "3.6.1"
  }
 },
 "nbformat": 4,
 "nbformat_minor": 2
}
