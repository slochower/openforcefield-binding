{
 "cells": [
  {
   "cell_type": "code",
   "execution_count": 2,
   "metadata": {
    "ExecuteTime": {
     "end_time": "2017-07-24T22:53:09.249035Z",
     "start_time": "2017-07-24T22:53:08.226559Z"
    },
    "collapsed": true
   },
   "outputs": [],
   "source": [
    "from simtk import openmm\n",
    "from simtk import unit\n",
    "import numpy as np"
   ]
  },
  {
   "cell_type": "code",
   "execution_count": 3,
   "metadata": {
    "ExecuteTime": {
     "end_time": "2017-07-24T22:53:09.733883Z",
     "start_time": "2017-07-24T22:53:09.253330Z"
    },
    "collapsed": true
   },
   "outputs": [],
   "source": [
    "from openeye import oechem"
   ]
  },
  {
   "cell_type": "code",
   "execution_count": 4,
   "metadata": {
    "ExecuteTime": {
     "end_time": "2017-07-24T22:53:11.812851Z",
     "start_time": "2017-07-24T22:53:09.737454Z"
    },
    "collapsed": true
   },
   "outputs": [],
   "source": [
    "from openforcefield.typing.engines.smirnoff.forcefield import ForceField, generateTopologyFromOEMol\n",
    "from openforcefield.utils import get_data_filename"
   ]
  },
  {
   "cell_type": "markdown",
   "metadata": {},
   "source": [
    "## Load in β-CD bound to benzoate (from Niel)"
   ]
  },
  {
   "cell_type": "code",
   "execution_count": 6,
   "metadata": {
    "ExecuteTime": {
     "end_time": "2017-07-24T22:59:16.983720Z",
     "start_time": "2017-07-24T22:59:16.976726Z"
    }
   },
   "outputs": [],
   "source": [
    "bcd = oechem.oemolistream('bcd.mol2')\n",
    "ben = oechem.oemolistream('ben.mol2')"
   ]
  },
  {
   "cell_type": "code",
   "execution_count": 7,
   "metadata": {
    "ExecuteTime": {
     "end_time": "2017-07-24T23:00:10.315625Z",
     "start_time": "2017-07-24T23:00:10.275046Z"
    }
   },
   "outputs": [
    {
     "data": {
      "text/plain": [
       "True"
      ]
     },
     "execution_count": 7,
     "metadata": {},
     "output_type": "execute_result"
    }
   ],
   "source": [
    "flavor = oechem.OEIFlavor_Generic_Default | oechem.OEIFlavor_MOL2_Default | oechem.OEIFlavor_MOL2_Forcefield\n",
    "bcd.SetFlavor(oechem.OEFormat_MOL2, flavor)\n",
    "ben.SetFlavor(oechem.OEFormat_MOL2, flavor)\n",
    "\n",
    "bcd_mol = oechem.OEMol()\n",
    "ben_mol = oechem.OEMol()\n",
    "oechem.OEReadMolecule(bcd, bcd_mol)\n",
    "oechem.OEReadMolecule(ben, ben_mol)"
   ]
  },
  {
   "cell_type": "markdown",
   "metadata": {},
   "source": [
    "## Load in SMIRNOFF99Frosst force field"
   ]
  },
  {
   "cell_type": "code",
   "execution_count": 8,
   "metadata": {
    "ExecuteTime": {
     "end_time": "2017-07-24T23:00:15.234046Z",
     "start_time": "2017-07-24T23:00:15.024622Z"
    },
    "collapsed": true
   },
   "outputs": [],
   "source": [
    "ffxml = get_data_filename('forcefield/smirnoff99Frosst.ffxml')\n",
    "ff = ForceField(ffxml)"
   ]
  },
  {
   "cell_type": "markdown",
   "metadata": {
    "ExecuteTime": {
     "end_time": "2017-07-21T21:21:08.983306Z",
     "start_time": "2017-07-21T21:21:08.974126Z"
    }
   },
   "source": [
    "## Generate toplogy for β-CD bound to benzoate"
   ]
  },
  {
   "cell_type": "code",
   "execution_count": 16,
   "metadata": {
    "ExecuteTime": {
     "end_time": "2017-07-24T23:10:03.800678Z",
     "start_time": "2017-07-24T23:10:02.769772Z"
    }
   },
   "outputs": [],
   "source": [
    "from simtk.openmm.app import PDBFile\n",
    "pdb = PDBFile('bcd-ben-conect.pdb')"
   ]
  },
  {
   "cell_type": "code",
   "execution_count": 17,
   "metadata": {
    "ExecuteTime": {
     "end_time": "2017-07-24T23:10:06.746028Z",
     "start_time": "2017-07-24T23:10:06.717674Z"
    }
   },
   "outputs": [
    {
     "name": "stdout",
     "output_type": "stream",
     "text": [
      "Charges specified in provided molecules will be used.\n"
     ]
    },
    {
     "ename": "AttributeError",
     "evalue": "'PDBFile' object has no attribute '_chains'",
     "output_type": "error",
     "traceback": [
      "\u001b[0;31m---------------------------------------------------------------------------\u001b[0m",
      "\u001b[0;31mAttributeError\u001b[0m                            Traceback (most recent call last)",
      "\u001b[0;32m<ipython-input-17-dc92291511f0>\u001b[0m in \u001b[0;36m<module>\u001b[0;34m()\u001b[0m\n\u001b[0;32m----> 1\u001b[0;31m \u001b[0msystem\u001b[0m \u001b[0;34m=\u001b[0m \u001b[0mff\u001b[0m\u001b[0;34m.\u001b[0m\u001b[0mcreateSystem\u001b[0m\u001b[0;34m(\u001b[0m\u001b[0mtopology\u001b[0m\u001b[0;34m=\u001b[0m\u001b[0mpdb\u001b[0m\u001b[0;34m,\u001b[0m \u001b[0mmolecules\u001b[0m\u001b[0;34m=\u001b[0m\u001b[0;34m[\u001b[0m\u001b[0mben_mol\u001b[0m\u001b[0;34m,\u001b[0m \u001b[0mbcd_mol\u001b[0m\u001b[0;34m]\u001b[0m\u001b[0;34m,\u001b[0m \u001b[0mverbose\u001b[0m\u001b[0;34m=\u001b[0m\u001b[0;32mTrue\u001b[0m\u001b[0;34m)\u001b[0m\u001b[0;34m\u001b[0m\u001b[0m\n\u001b[0m",
      "\u001b[0;32m~/data/applications/anaconda3/envs/openforcefield/lib/python3.6/site-packages/openforcefield/typing/engines/smirnoff/forcefield.py\u001b[0m in \u001b[0;36mcreateSystem\u001b[0;34m(self, topology, molecules, nonbondedMethod, nonbondedCutoff, constraints, rigidWater, removeCMMotion, hydrogenMass, residueTemplates, chargeMethod, verbose, **kwargs)\u001b[0m\n\u001b[1;32m    969\u001b[0m \u001b[0;34m\u001b[0m\u001b[0m\n\u001b[1;32m    970\u001b[0m         \u001b[0;31m# Work with a modified form of the topology that provides additional accessors.\u001b[0m\u001b[0;34m\u001b[0m\u001b[0;34m\u001b[0m\u001b[0m\n\u001b[0;32m--> 971\u001b[0;31m         \u001b[0mtopology\u001b[0m \u001b[0;34m=\u001b[0m \u001b[0m_Topology\u001b[0m\u001b[0;34m(\u001b[0m\u001b[0mtopology\u001b[0m\u001b[0;34m,\u001b[0m \u001b[0mmolecules\u001b[0m\u001b[0;34m)\u001b[0m\u001b[0;34m\u001b[0m\u001b[0m\n\u001b[0m\u001b[1;32m    972\u001b[0m \u001b[0;34m\u001b[0m\u001b[0m\n\u001b[1;32m    973\u001b[0m         \u001b[0;31m# If the charge method was not an OpenEye AM1 method and we need Wiberg bond orders, obtain Wiberg bond orders\u001b[0m\u001b[0;34m\u001b[0m\u001b[0;34m\u001b[0m\u001b[0m\n",
      "\u001b[0;32m~/data/applications/anaconda3/envs/openforcefield/lib/python3.6/site-packages/openforcefield/typing/engines/smirnoff/forcefield.py\u001b[0m in \u001b[0;36m__init__\u001b[0;34m(self, topology, reference_molecules)\u001b[0m\n\u001b[1;32m    184\u001b[0m         \u001b[0;31m# TODO: Find a way to avoid having this be fragile based on internal representation of Topology.\u001b[0m\u001b[0;34m\u001b[0m\u001b[0;34m\u001b[0m\u001b[0m\n\u001b[1;32m    185\u001b[0m         \u001b[0;31m# TODO: Should this also use a deepcopy of 'topology' first?\u001b[0m\u001b[0;34m\u001b[0m\u001b[0;34m\u001b[0m\u001b[0m\n\u001b[0;32m--> 186\u001b[0;31m         \u001b[0mself\u001b[0m\u001b[0;34m.\u001b[0m\u001b[0m_chains\u001b[0m \u001b[0;34m=\u001b[0m \u001b[0mtopology\u001b[0m\u001b[0;34m.\u001b[0m\u001b[0m_chains\u001b[0m\u001b[0;34m\u001b[0m\u001b[0m\n\u001b[0m\u001b[1;32m    187\u001b[0m         \u001b[0mself\u001b[0m\u001b[0;34m.\u001b[0m\u001b[0m_numResidues\u001b[0m \u001b[0;34m=\u001b[0m \u001b[0mtopology\u001b[0m\u001b[0;34m.\u001b[0m\u001b[0m_numResidues\u001b[0m\u001b[0;34m\u001b[0m\u001b[0m\n\u001b[1;32m    188\u001b[0m         \u001b[0mself\u001b[0m\u001b[0;34m.\u001b[0m\u001b[0m_numAtoms\u001b[0m \u001b[0;34m=\u001b[0m \u001b[0mtopology\u001b[0m\u001b[0;34m.\u001b[0m\u001b[0m_numAtoms\u001b[0m\u001b[0;34m\u001b[0m\u001b[0m\n",
      "\u001b[0;31mAttributeError\u001b[0m: 'PDBFile' object has no attribute '_chains'"
     ]
    }
   ],
   "source": [
    "system = ff.createSystem(topology=pdb, molecules=[ben_mol, bcd_mol], verbose=True)"
   ]
  },
  {
   "cell_type": "code",
   "execution_count": null,
   "metadata": {
    "collapsed": true
   },
   "outputs": [],
   "source": []
  }
 ],
 "metadata": {
  "_draft": {
   "nbviewer_url": "https://gist.github.com/326fe12b694068bb581f9e1b4a3b584e"
  },
  "gist": {
   "data": {
    "description": "1-load-in-cyclodextrin",
    "public": true
   },
   "id": "326fe12b694068bb581f9e1b4a3b584e"
  },
  "kernelspec": {
   "display_name": "Python (OFF)",
   "language": "python",
   "name": "openforcefield"
  },
  "language_info": {
   "codemirror_mode": {
    "name": "ipython",
    "version": 3
   },
   "file_extension": ".py",
   "mimetype": "text/x-python",
   "name": "python",
   "nbconvert_exporter": "python",
   "pygments_lexer": "ipython3",
   "version": "3.6.1"
  }
 },
 "nbformat": 4,
 "nbformat_minor": 2
}
