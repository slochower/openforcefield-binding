{
 "cells": [
  {
   "cell_type": "markdown",
   "metadata": {},
   "source": [
    "# Testing whether we can load smirnoff99Frosst parameters..."
   ]
  },
  {
   "cell_type": "markdown",
   "metadata": {},
   "source": [
    "## Standard imports"
   ]
  },
  {
   "cell_type": "code",
   "execution_count": 1,
   "metadata": {
    "ExecuteTime": {
     "end_time": "2017-07-13T23:25:04.465058Z",
     "start_time": "2017-07-13T23:25:04.186344Z"
    },
    "collapsed": true
   },
   "outputs": [],
   "source": [
    "import openeye\n",
    "from openeye import oechem\n",
    "from simtk import openmm\n",
    "from simtk import unit\n",
    "import numpy as np"
   ]
  },
  {
   "cell_type": "markdown",
   "metadata": {},
   "source": [
    "## OFF imports"
   ]
  },
  {
   "cell_type": "code",
   "execution_count": 2,
   "metadata": {
    "ExecuteTime": {
     "end_time": "2017-07-13T23:25:14.354331Z",
     "start_time": "2017-07-13T23:25:14.186781Z"
    }
   },
   "outputs": [],
   "source": [
    "from openforcefield.typing.engines.smirnoff.forcefield import ForceField, generateTopologyFromOEMol\n",
    "from openforcefield.utils import get_data_filename"
   ]
  },
  {
   "cell_type": "code",
   "execution_count": null,
   "metadata": {
    "collapsed": true
   },
   "outputs": [],
   "source": []
  }
 ],
 "metadata": {
  "kernelspec": {
   "display_name": "Python (OFF)",
   "language": "python",
   "name": "openforcefield"
  },
  "language_info": {
   "codemirror_mode": {
    "name": "ipython",
    "version": 3
   },
   "file_extension": ".py",
   "mimetype": "text/x-python",
   "name": "python",
   "nbconvert_exporter": "python",
   "pygments_lexer": "ipython3",
   "version": "3.6.1"
  }
 },
 "nbformat": 4,
 "nbformat_minor": 2
}
