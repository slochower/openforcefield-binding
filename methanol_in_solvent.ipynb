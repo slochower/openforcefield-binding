{
 "cells": [
  {
   "cell_type": "markdown",
   "metadata": {},
   "source": [
    "# Setup of methanol in (specified solvent)\n",
    "\n",
    "Here we are setting up solvation free energy calculations for a single molecule of methanol in (you specify the solvent). We will set up the system (with GAFF parameters) using SolvationToolkit in AMBER and GROMACS formats for use in GROMACS and Yank for solvation free energy estimation beginning from those formats. We will then also generate OpenMM Systems using ParmEd and serialize to XML so we can test beginning Yank calculations from that format as well. Further, we will take the same system, assign SMIRNOFF99Frosst parameters, and dump to GROMACS and serialized OpenMM XML formats for use in GROMACS and Yank. The intention is to ensure we can reproduce the same solvation free energies in all cases.\n",
    "\n",
    "## Do imports"
   ]
  },
  {
   "cell_type": "code",
   "execution_count": 10,
   "metadata": {},
   "outputs": [],
   "source": [
    "from solvationtoolkit.solvated_mixtures import *\n",
    "import parmed\n",
    "from openforcefield.utils import get_data_filename, extractPositionsFromOEMol, generateTopologyFromOEMol\n",
    "from openforcefield.typing.engines.smirnoff.forcefield_utils import *\n",
    "from simtk.openmm.app import *\n",
    "from simtk.openmm import XmlSerializer\n",
    "from simtk import unit\n",
    "from openforcefield.typing.engines.smirnoff import ForceField"
   ]
  },
  {
   "cell_type": "markdown",
   "metadata": {},
   "source": [
    "## Prep system with SolvationToolkit"
   ]
  },
  {
   "cell_type": "code",
   "execution_count": 4,
   "metadata": {},
   "outputs": [
    {
     "name": "stderr",
     "output_type": "stream",
     "text": [
      "//anaconda/lib/python3.5/site-packages/pandas/io/parsers.py:1961: FutureWarning: split() requires a non-empty pattern match.\n",
      "  yield pat.split(line.strip())\n",
      "//anaconda/lib/python3.5/site-packages/pandas/io/parsers.py:1963: FutureWarning: split() requires a non-empty pattern match.\n",
      "  yield pat.split(line.strip())\n"
     ]
    },
    {
     "name": "stdout",
     "output_type": "stream",
     "text": [
      "\n",
      "# Mixture \n",
      "\n",
      "tolerance 2.000000\n",
      "filetype pdb\n",
      "output /var/folders/k0/v23_69_j415062nr1f1y8sr00000gn/T/tmpnju1k6hs.pdb\n",
      "add_amber_ter\n",
      "\n",
      "\n",
      "structure /var/folders/k0/v23_69_j415062nr1f1y8sr00000gn/T/tmpt1_pbokx.pdb\n",
      "  number 1 \n",
      "  inside box 0. 0. 0. 38.229686 38.229686 38.229686\n",
      "end structure\n",
      "\n",
      "structure /var/folders/k0/v23_69_j415062nr1f1y8sr00000gn/T/tmpu4a3g4eg.pdb\n",
      "  number 300 \n",
      "  inside box 0. 0. 0. 38.229686 38.229686 38.229686\n",
      "end structure\n",
      "\n",
      "\n",
      "# Mixture \n",
      "\n",
      "tolerance 2.000000\n",
      "filetype pdb\n",
      "output /var/folders/k0/v23_69_j415062nr1f1y8sr00000gn/T/tmpnju1k6hs.pdb\n",
      "add_amber_ter\n",
      "\n",
      "\n",
      "structure /var/folders/k0/v23_69_j415062nr1f1y8sr00000gn/T/tmpt1_pbokx.pdb\n",
      "  number 1 \n",
      "  inside box 0. 0. 0. 38.229686 38.229686 38.229686\n",
      "end structure\n",
      "\n",
      "structure /var/folders/k0/v23_69_j415062nr1f1y8sr00000gn/T/tmpu4a3g4eg.pdb\n",
      "  number 300 \n",
      "  inside box 0. 0. 0. 38.229686 38.229686 38.229686\n",
      "end structure\n",
      "\n",
      "\n",
      "source leaprc.gaff\n",
      "source oldff/leaprc.ff99SB\n",
      "ZTZ = loadmol2 in0.mol2\n",
      "ZYT = loadmol2 in1.mol2\n",
      "box = loadPdb tbox.pdb\n",
      "loadamberparams in0.frcmod\n",
      "loadamberparams in1.frcmod\n",
      "setbox box centers\n",
      "saveAmberParm box out.prmtop out.inpcrd\n",
      "quit\n",
      "\n"
     ]
    }
   ],
   "source": [
    "infinite_dilution = MixtureSystem()\n",
    "infinite_dilution.addComponent(name='methanol', number=1)\n",
    "#Specify your solvent here\n",
    "solvent_name = 'cyclohexane' #Needs to be a name which is compatible with file names\n",
    "infinite_dilution.addComponent(name=solvent_name, number=300)\n",
    "infinite_dilution.build(amber=True, gromacs=True)"
   ]
  },
  {
   "cell_type": "markdown",
   "metadata": {},
   "source": [
    "## Use ParmEd to make GROMACS files into OpenMM system then serialize to XML for use in Yank"
   ]
  },
  {
   "cell_type": "code",
   "execution_count": 6,
   "metadata": {},
   "outputs": [],
   "source": [
    "top = parmed.load_file('data/gromacs/methanol_%s_1_300.top' % solvent_name)\n",
    "gro = parmed.load_file('data/gromacs/methanol_%s_1_300.gro' % solvent_name)\n",
    "top.box = gro.box\n",
    "system = top.createSystem(nonbondedMethod = app.PME, nonbondedCutoff=1.0*unit.nanometer)\n",
    "\n",
    "# Make dir for serialized systems if needed\n",
    "import os\n",
    "if not os.path.isdir( 'data/openmm'): os.mkdir('data/openmm')\n",
    "\n",
    "# Save\n",
    "serialized = XmlSerializer.serialize(system)\n",
    "outfile = open('data/openmm/methanol_%s_gromacs_gaff.xml' % solvent_name, 'w')\n",
    "outfile.write(serialized)\n",
    "outfile.close()"
   ]
  },
  {
   "cell_type": "markdown",
   "metadata": {},
   "source": [
    "## Assign SMIRNOFF parameters to system"
   ]
  },
  {
   "cell_type": "code",
   "execution_count": 14,
   "metadata": {},
   "outputs": [],
   "source": [
    "# Load forcefield\n",
    "ff = ForceField( get_data_filename('forcefield/smirnoff99Frosst.ffxml'))\n",
    "from openforcefield.typing.engines.smirnoff import PME\n",
    "\n",
    "# Load oemols\n",
    "from openeye.oechem import *\n",
    "mols = []\n",
    "flavor = oechem.OEIFlavor_Generic_Default | oechem.OEIFlavor_MOL2_Default | oechem.OEIFlavor_MOL2_Forcefield\n",
    "for molname in [solvent_name, 'methanol']:\n",
    "    ifs = oechem.oemolistream( os.path.join('data/monomers', '%s.mol2' % molname))\n",
    "    ifs.SetFlavor( oechem.OEFormat_MOL2, flavor)\n",
    "    mol = oechem.OEGraphMol()\n",
    "    while oechem.OEReadMolecule(ifs, mol):\n",
    "        oechem.OETriposAtomNames(mol)\n",
    "        mols.append(oechem.OEGraphMol(mol))\n",
    "        \n",
    "# Load PDBFile\n",
    "pdbfile = PDBFile( 'data/packmol_boxes/methanol_%s_1_300.pdb' % solvent_name)\n",
    "system = ff.createSystem(pdbfile.topology, mols, nonbondedMethod=PME, nonbondedCutoff=1.0*unit.nanometer)"
   ]
  },
  {
   "cell_type": "markdown",
   "metadata": {},
   "source": [
    "## Dump SMIRNOFF system to XML"
   ]
  },
  {
   "cell_type": "code",
   "execution_count": 15,
   "metadata": {
    "collapsed": true
   },
   "outputs": [],
   "source": [
    "serialized = XmlSerializer.serialize(system)\n",
    "outfile = open('data/openmm/methanol_%s_smirnoff.xml' % solvent_name, 'w')\n",
    "outfile.write(serialized)\n",
    "outfile.close()"
   ]
  },
  {
   "cell_type": "markdown",
   "metadata": {},
   "source": [
    "## Convert SMIRNOFF system to GROMACS and dump"
   ]
  },
  {
   "cell_type": "code",
   "execution_count": 16,
   "metadata": {},
   "outputs": [],
   "source": [
    "structure = parmed.openmm.topsystem.load_topology(pdbfile.topology, system, pdbfile.positions)\n",
    "structure.save( 'data/gromacs/methanol_%s_smirnoff.gro' % solvent_name, overwrite=True)\n",
    "structure.save( 'data/gromacs/methanol_%s_smirnoff.top' % solvent_name, overwrite=True)"
   ]
  },
  {
   "cell_type": "markdown",
   "metadata": {},
   "source": [
    "# Make a system with methanol in the gas phase and save\n",
    "## Do original GAFF"
   ]
  },
  {
   "cell_type": "code",
   "execution_count": 17,
   "metadata": {},
   "outputs": [
    {
     "ename": "OSError",
     "evalue": "data/gromacs/methanol.top does not exist",
     "output_type": "error",
     "traceback": [
      "\u001b[0;31m---------------------------------------------------------------------------\u001b[0m",
      "\u001b[0;31mOSError\u001b[0m                                   Traceback (most recent call last)",
      "\u001b[0;32m<ipython-input-17-d4f2a6646691>\u001b[0m in \u001b[0;36m<module>\u001b[0;34m()\u001b[0m\n\u001b[1;32m      2\u001b[0m \u001b[0;31m# I had to construct a GROMACS topology/coordinate file for the monomer by hand as I don't have one generated\u001b[0m\u001b[0;34m\u001b[0m\u001b[0;34m\u001b[0m\u001b[0m\n\u001b[1;32m      3\u001b[0m \u001b[0;31m# I did it by copying the ones for the solvated system and removing the solute\u001b[0m\u001b[0;34m\u001b[0m\u001b[0;34m\u001b[0m\u001b[0m\n\u001b[0;32m----> 4\u001b[0;31m \u001b[0mtop\u001b[0m \u001b[0;34m=\u001b[0m \u001b[0mparmed\u001b[0m\u001b[0;34m.\u001b[0m\u001b[0mload_file\u001b[0m\u001b[0;34m(\u001b[0m\u001b[0;34m'data/gromacs/methanol.top'\u001b[0m\u001b[0;34m)\u001b[0m\u001b[0;34m\u001b[0m\u001b[0m\n\u001b[0m\u001b[1;32m      5\u001b[0m \u001b[0mgro\u001b[0m \u001b[0;34m=\u001b[0m \u001b[0mparmed\u001b[0m\u001b[0;34m.\u001b[0m\u001b[0mload_file\u001b[0m\u001b[0;34m(\u001b[0m\u001b[0;34m'data/gromacs/methanol.gro'\u001b[0m\u001b[0;34m)\u001b[0m\u001b[0;34m\u001b[0m\u001b[0m\n\u001b[1;32m      6\u001b[0m \u001b[0mtop\u001b[0m\u001b[0;34m.\u001b[0m\u001b[0mbox\u001b[0m \u001b[0;34m=\u001b[0m \u001b[0mgro\u001b[0m\u001b[0;34m.\u001b[0m\u001b[0mbox\u001b[0m\u001b[0;34m\u001b[0m\u001b[0m\n",
      "\u001b[0;32m//anaconda/lib/python3.5/site-packages/parmed/formats/registry.py\u001b[0m in \u001b[0;36mload_file\u001b[0;34m(filename, *args, **kwargs)\u001b[0m\n\u001b[1;32m    166\u001b[0m             \u001b[0;32massert\u001b[0m \u001b[0mf\u001b[0m\u001b[0;34m\u001b[0m\u001b[0m\n\u001b[1;32m    167\u001b[0m     \u001b[0;32melif\u001b[0m \u001b[0;32mnot\u001b[0m \u001b[0mos\u001b[0m\u001b[0;34m.\u001b[0m\u001b[0mpath\u001b[0m\u001b[0;34m.\u001b[0m\u001b[0mexists\u001b[0m\u001b[0;34m(\u001b[0m\u001b[0mfilename\u001b[0m\u001b[0;34m)\u001b[0m\u001b[0;34m:\u001b[0m\u001b[0;34m\u001b[0m\u001b[0m\n\u001b[0;32m--> 168\u001b[0;31m         \u001b[0;32mraise\u001b[0m \u001b[0mIOError\u001b[0m\u001b[0;34m(\u001b[0m\u001b[0;34m'%s does not exist'\u001b[0m \u001b[0;34m%\u001b[0m \u001b[0mfilename\u001b[0m\u001b[0;34m)\u001b[0m\u001b[0;34m\u001b[0m\u001b[0m\n\u001b[0m\u001b[1;32m    169\u001b[0m     \u001b[0;32melif\u001b[0m \u001b[0;32mnot\u001b[0m \u001b[0mos\u001b[0m\u001b[0;34m.\u001b[0m\u001b[0maccess\u001b[0m\u001b[0;34m(\u001b[0m\u001b[0mfilename\u001b[0m\u001b[0;34m,\u001b[0m \u001b[0mos\u001b[0m\u001b[0;34m.\u001b[0m\u001b[0mR_OK\u001b[0m\u001b[0;34m)\u001b[0m\u001b[0;34m:\u001b[0m\u001b[0;34m\u001b[0m\u001b[0m\n\u001b[1;32m    170\u001b[0m         \u001b[0;32mraise\u001b[0m \u001b[0mIOError\u001b[0m\u001b[0;34m(\u001b[0m\u001b[0;34m'%s does not have read permissions set'\u001b[0m \u001b[0;34m%\u001b[0m \u001b[0mfilename\u001b[0m\u001b[0;34m)\u001b[0m\u001b[0;34m\u001b[0m\u001b[0m\n",
      "\u001b[0;31mOSError\u001b[0m: data/gromacs/methanol.top does not exist"
     ]
    }
   ],
   "source": [
    "# Add code here\n",
    "# I had to construct a GROMACS topology/coordinate file for the monomer by hand as I don't have one generated\n",
    "# I did it by copying the ones for the solvated system and removing the solvent\n",
    "top = parmed.load_file('data/gromacs/methanol.top')\n",
    "gro = parmed.load_file('data/gromacs/methanol.gro')\n",
    "top.box = gro.box\n",
    "system = top.createSystem(nonbondedMethod = app.NoCutoff)\n",
    "\n",
    "# Make dir for serialized systems if needed\n",
    "import os\n",
    "if not os.path.isdir( 'data/openmm'): os.mkdir('data/openmm')\n",
    "\n",
    "# Save\n",
    "serialized = XmlSerializer.serialize(system)\n",
    "outfile = open('data/openmm/methanol_gromacs_gaff.xml', 'w')\n",
    "outfile.write(serialized)\n",
    "outfile.close()"
   ]
  },
  {
   "cell_type": "markdown",
   "metadata": {},
   "source": [
    "## Do SMIRNOFF in XML"
   ]
  },
  {
   "cell_type": "code",
   "execution_count": 9,
   "metadata": {
    "collapsed": true
   },
   "outputs": [],
   "source": [
    "# Make Topology for methanol\n",
    "topology = generateTopologyFromOEMol(mols[1])\n",
    "system = ff.createSystem(topology, mols)\n",
    "\n",
    "# Save\n",
    "serialized = XmlSerializer.serialize(system)\n",
    "outfile = open('data/openmm/methanol_smirnoff.xml', 'w')\n",
    "outfile.write(serialized)\n",
    "outfile.close()"
   ]
  },
  {
   "cell_type": "markdown",
   "metadata": {},
   "source": [
    "## Do SMIRNOFF in GROMACS"
   ]
  },
  {
   "cell_type": "code",
   "execution_count": 10,
   "metadata": {},
   "outputs": [],
   "source": [
    "structure = parmed.openmm.topsystem.load_topology(topology, system, gro.positions)\n",
    "structure.save( 'data/gromacs/methanol_smirnoff.gro', overwrite=True)\n",
    "structure.save( 'data/gromacs/methanol_smirnoff.top', overwrite=True)"
   ]
  },
  {
   "cell_type": "code",
   "execution_count": null,
   "metadata": {
    "collapsed": true
   },
   "outputs": [],
   "source": []
  },
  {
   "cell_type": "code",
   "execution_count": null,
   "metadata": {
    "collapsed": true
   },
   "outputs": [],
   "source": []
  },
  {
   "cell_type": "code",
   "execution_count": null,
   "metadata": {
    "collapsed": true
   },
   "outputs": [],
   "source": []
  }
 ],
 "metadata": {
  "anaconda-cloud": {},
  "kernelspec": {
   "display_name": "Python 3",
   "language": "python",
   "name": "python3"
  },
  "language_info": {
   "codemirror_mode": {
    "name": "ipython",
    "version": 3
   },
   "file_extension": ".py",
   "mimetype": "text/x-python",
   "name": "python",
   "nbconvert_exporter": "python",
   "pygments_lexer": "ipython3",
   "version": "3.6.0"
  }
 },
 "nbformat": 4,
 "nbformat_minor": 1
}
